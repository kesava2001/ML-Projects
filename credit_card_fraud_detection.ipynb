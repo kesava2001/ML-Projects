{
  "nbformat": 4,
  "nbformat_minor": 0,
  "metadata": {
    "colab": {
      "name": "credit_card_fraud_detection.ipynb",
      "provenance": [],
      "collapsed_sections": []
    },
    "kernelspec": {
      "name": "python3",
      "display_name": "Python 3"
    },
    "accelerator": "GPU"
  },
  "cells": [
    {
      "cell_type": "code",
      "metadata": {
        "colab": {
          "base_uri": "https://localhost:8080/"
        },
        "id": "A_6C4o9yG_lb",
        "outputId": "99c7bfa7-2638-43a4-9dec-22d7a52cdf73"
      },
      "source": [
        "import pandas as pd\n",
        "\n",
        "data = pd.read_csv('/content/drive/MyDrive/Colab Notebooks/data sets/credit card fraud/creditcard.csv')\n",
        "print(data.head())\n",
        "print(data.shape)"
      ],
      "execution_count": null,
      "outputs": [
        {
          "output_type": "stream",
          "text": [
            "   Time        V1        V2        V3  ...       V27       V28  Amount  Class\n",
            "0   0.0 -1.359807 -0.072781  2.536347  ...  0.133558 -0.021053  149.62      0\n",
            "1   0.0  1.191857  0.266151  0.166480  ... -0.008983  0.014724    2.69      0\n",
            "2   1.0 -1.358354 -1.340163  1.773209  ... -0.055353 -0.059752  378.66      0\n",
            "3   1.0 -0.966272 -0.185226  1.792993  ...  0.062723  0.061458  123.50      0\n",
            "4   2.0 -1.158233  0.877737  1.548718  ...  0.219422  0.215153   69.99      0\n",
            "\n",
            "[5 rows x 31 columns]\n",
            "(284807, 31)\n"
          ],
          "name": "stdout"
        }
      ]
    },
    {
      "cell_type": "code",
      "metadata": {
        "colab": {
          "base_uri": "https://localhost:8080/"
        },
        "id": "E-zBwMayIICy",
        "outputId": "7aad7f42-6fdf-4c94-ded4-043ec071eaea"
      },
      "source": [
        "print(len(data[data['Class']==1]))\n",
        "print(len(data[data['Class']==0]))"
      ],
      "execution_count": null,
      "outputs": [
        {
          "output_type": "stream",
          "text": [
            "492\n",
            "284315\n"
          ],
          "name": "stdout"
        }
      ]
    },
    {
      "cell_type": "code",
      "metadata": {
        "id": "HqLfvVnqM4Yo"
      },
      "source": [
        "X = data.drop(columns=['Class'], axis=1)\n",
        "Y = data['Class']"
      ],
      "execution_count": null,
      "outputs": []
    },
    {
      "cell_type": "code",
      "metadata": {
        "colab": {
          "base_uri": "https://localhost:8080/"
        },
        "id": "oc0J07RrJfi8",
        "outputId": "1221d7de-6c86-44f5-d74c-dd08b287831e"
      },
      "source": [
        "#we need to upscale the dataset, so that the fraud and genuine counts will be same\n",
        "\n",
        "from imblearn.over_sampling import RandomOverSampler\n",
        "\n",
        "os = RandomOverSampler()\n",
        "x_os, y_os = os.fit_sample(X, Y)\n",
        "\n",
        "x_os.shape, y_os.shape"
      ],
      "execution_count": null,
      "outputs": [
        {
          "output_type": "stream",
          "text": [
            "/usr/local/lib/python3.6/dist-packages/sklearn/externals/six.py:31: FutureWarning: The module is deprecated in version 0.21 and will be removed in version 0.23 since we've dropped support for Python 2.7. Please rely on the official version of six (https://pypi.org/project/six/).\n",
            "  \"(https://pypi.org/project/six/).\", FutureWarning)\n",
            "/usr/local/lib/python3.6/dist-packages/sklearn/utils/deprecation.py:144: FutureWarning: The sklearn.neighbors.base module is  deprecated in version 0.22 and will be removed in version 0.24. The corresponding classes / functions should instead be imported from sklearn.neighbors. Anything that cannot be imported from sklearn.neighbors is now part of the private API.\n",
            "  warnings.warn(message, FutureWarning)\n",
            "/usr/local/lib/python3.6/dist-packages/sklearn/utils/deprecation.py:87: FutureWarning: Function safe_indexing is deprecated; safe_indexing is deprecated in version 0.22 and will be removed in version 0.24.\n",
            "  warnings.warn(msg, category=FutureWarning)\n"
          ],
          "name": "stderr"
        },
        {
          "output_type": "execute_result",
          "data": {
            "text/plain": [
              "((568630, 30), (568630,))"
            ]
          },
          "metadata": {
            "tags": []
          },
          "execution_count": 4
        }
      ]
    },
    {
      "cell_type": "code",
      "metadata": {
        "colab": {
          "base_uri": "https://localhost:8080/"
        },
        "id": "p5NnUspvNZ4o",
        "outputId": "0e525ce9-6648-4812-a443-e54c88761229"
      },
      "source": [
        "from collections import Counter\n",
        "Counter(Y), Counter(y_os)"
      ],
      "execution_count": null,
      "outputs": [
        {
          "output_type": "execute_result",
          "data": {
            "text/plain": [
              "(Counter({0: 284315, 1: 492}), Counter({0: 284315, 1: 284315}))"
            ]
          },
          "metadata": {
            "tags": []
          },
          "execution_count": 5
        }
      ]
    },
    {
      "cell_type": "code",
      "metadata": {
        "colab": {
          "base_uri": "https://localhost:8080/"
        },
        "id": "iIiS_bG2PMkh",
        "outputId": "93d22780-d1ef-4bab-8440-4bb1d896d27b"
      },
      "source": [
        "from sklearn.model_selection import train_test_split\n",
        "\n",
        "x_train, x_test, y_train, y_test = train_test_split(x_os, y_os, test_size=0.2, random_state=2321)\n",
        "\n",
        "x_train, x_val, y_train, y_val = train_test_split(x_train, y_train, test_size=0.1, random_state=3920)\n",
        "\n",
        "print(x_train.shape)\n",
        "print(x_test.shape)\n",
        "print(y_train.shape)\n",
        "print(y_test.shape)\n",
        "print(x_val.shape)\n",
        "print(y_val.shape)\n"
      ],
      "execution_count": null,
      "outputs": [
        {
          "output_type": "stream",
          "text": [
            "(409413, 30)\n",
            "(113726, 30)\n",
            "(409413,)\n",
            "(113726,)\n",
            "(45491, 30)\n",
            "(45491,)\n"
          ],
          "name": "stdout"
        }
      ]
    },
    {
      "cell_type": "code",
      "metadata": {
        "colab": {
          "base_uri": "https://localhost:8080/"
        },
        "id": "uL0WyGWsOBf3",
        "outputId": "09bf7518-bef7-4808-e00f-1ec1753cd3a8"
      },
      "source": [
        "from keras.models import Sequential\n",
        "from keras.layers import Dense, Dropout\n",
        "\n",
        "nn = Sequential()\n",
        "\n",
        "nn.add(Dense(128, input_dim=30, activation='relu'))\n",
        "#nn.add(Dense(30, activation='relu'))\n",
        "#nn.add(Dense(15, activation='relu'))\n",
        "nn.add(Dense(1, activation='sigmoid'))\n",
        "\n",
        "nn.compile(optimizer='adam', loss='binary_crossentropy', metrics=['accuracy'])\n",
        "\n",
        "nn.fit(x_train, y_train, validation_data=(x_val, y_val), epochs=5, batch_size=32)"
      ],
      "execution_count": null,
      "outputs": [
        {
          "output_type": "stream",
          "text": [
            "Epoch 1/5\n",
            "12795/12795 [==============================] - 27s 2ms/step - loss: 20.3615 - accuracy: 0.8335 - val_loss: 7.7898 - val_accuracy: 0.9307\n",
            "Epoch 2/5\n",
            "12795/12795 [==============================] - 27s 2ms/step - loss: 12.9027 - accuracy: 0.8977 - val_loss: 11.8372 - val_accuracy: 0.9302\n",
            "Epoch 3/5\n",
            "12795/12795 [==============================] - 28s 2ms/step - loss: 11.8546 - accuracy: 0.9056 - val_loss: 21.0257 - val_accuracy: 0.9110\n",
            "Epoch 4/5\n",
            "12795/12795 [==============================] - 27s 2ms/step - loss: 9.7961 - accuracy: 0.9079 - val_loss: 11.6532 - val_accuracy: 0.9258\n",
            "Epoch 5/5\n",
            "12795/12795 [==============================] - 29s 2ms/step - loss: 7.6008 - accuracy: 0.9119 - val_loss: 3.7543 - val_accuracy: 0.9455\n"
          ],
          "name": "stdout"
        },
        {
          "output_type": "execute_result",
          "data": {
            "text/plain": [
              "<tensorflow.python.keras.callbacks.History at 0x7f4f42713ba8>"
            ]
          },
          "metadata": {
            "tags": []
          },
          "execution_count": 18
        }
      ]
    },
    {
      "cell_type": "code",
      "metadata": {
        "colab": {
          "base_uri": "https://localhost:8080/"
        },
        "id": "ItAuiQbuTvXO",
        "outputId": "37c60767-ce55-41f9-e747-11fb055c48d5"
      },
      "source": [
        "result = nn.evaluate(x_test, y_test)\n",
        "\n",
        "for i in range(len(nn.metrics_names)):\n",
        "  print('Metrics', nn.metrics_names[i],':', str(round(result[i],2)))"
      ],
      "execution_count": null,
      "outputs": [
        {
          "output_type": "stream",
          "text": [
            "3554/3554 [==============================] - 5s 2ms/step - loss: 3.6962 - accuracy: 0.9448\n",
            "Metrics loss : 3.7\n",
            "Metrics accuracy : 0.94\n"
          ],
          "name": "stdout"
        }
      ]
    }
  ]
}