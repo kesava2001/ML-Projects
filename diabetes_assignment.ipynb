{
  "nbformat": 4,
  "nbformat_minor": 0,
  "metadata": {
    "colab": {
      "name": "diabetes_assignment.ipynb",
      "provenance": []
    },
    "kernelspec": {
      "name": "python3",
      "display_name": "Python 3"
    }
  },
  "cells": [
    {
      "cell_type": "code",
      "metadata": {
        "colab": {
          "base_uri": "https://localhost:8080/"
        },
        "id": "4FmeRG2Ck2K_",
        "outputId": "62e18c37-fdf0-4dbd-a080-05abe6e20166"
      },
      "source": [
        "import numpy as np\n",
        "train = np.loadtxt('/content/drive/MyDrive/Colab Notebooks/data sets/diabetes dataset(coding ninjas)/0000000000002329_training_diabetes_x_y_train.csv', delimiter=',')\n",
        "test = np.loadtxt('/content/drive/MyDrive/Colab Notebooks/data sets/diabetes dataset(coding ninjas)/0000000000002329_test_diabetes_x_test.csv', delimiter=',')\n",
        "train"
      ],
      "execution_count": null,
      "outputs": [
        {
          "output_type": "execute_result",
          "data": {
            "text/plain": [
              "array([[-4.91050164e-02, -4.46416365e-02,  1.60854917e-01, ...,\n",
              "         2.80165065e-02,  1.13486232e-02,  3.46000000e+02],\n",
              "       [-7.09002471e-02,  5.06801187e-02, -8.91974838e-02, ...,\n",
              "        -1.29079423e-02, -5.49250874e-02,  1.04000000e+02],\n",
              "       [ 1.75052192e-03, -4.46416365e-02, -7.08746786e-02, ...,\n",
              "        -2.25121719e-02,  7.20651633e-03,  4.90000000e+01],\n",
              "       ...,\n",
              "       [ 2.35457526e-02, -4.46416365e-02,  7.03187031e-02, ...,\n",
              "        -1.91970476e-02, -9.36191133e-03,  2.88000000e+02],\n",
              "       [ 1.62806757e-02,  5.06801187e-02,  7.24743273e-02, ...,\n",
              "        -2.36445576e-02,  6.10539062e-02,  1.31000000e+02],\n",
              "       [-9.14709343e-03,  5.06801187e-02, -3.09956318e-02, ...,\n",
              "         6.20931562e-03,  2.79170509e-02,  4.20000000e+01]])"
            ]
          },
          "metadata": {
            "tags": []
          },
          "execution_count": 11
        }
      ]
    },
    {
      "cell_type": "code",
      "metadata": {
        "colab": {
          "base_uri": "https://localhost:8080/"
        },
        "id": "qMHg5lG3nXj_",
        "outputId": "5ef70c73-74ca-4acd-fd80-ff26a3cc50b7"
      },
      "source": [
        "train.shape"
      ],
      "execution_count": null,
      "outputs": [
        {
          "output_type": "execute_result",
          "data": {
            "text/plain": [
              "(331, 11)"
            ]
          },
          "metadata": {
            "tags": []
          },
          "execution_count": 2
        }
      ]
    },
    {
      "cell_type": "code",
      "metadata": {
        "colab": {
          "base_uri": "https://localhost:8080/"
        },
        "id": "Xg-AMZNvncmk",
        "outputId": "60c001d4-b6a4-42a3-a543-3d5d9e0f6afd"
      },
      "source": [
        "x_train = train[:, :10]\n",
        "y_train = train[:, 10:]"
      ],
      "execution_count": null,
      "outputs": [
        {
          "output_type": "execute_result",
          "data": {
            "text/plain": [
              "array([[-0.04910502, -0.04464164,  0.16085492, ...,  0.03430886,\n",
              "         0.02801651,  0.01134862],\n",
              "       [-0.07090025,  0.05068012, -0.08919748, ..., -0.00259226,\n",
              "        -0.01290794, -0.05492509],\n",
              "       [ 0.00175052, -0.04464164, -0.07087468, ..., -0.03949338,\n",
              "        -0.02251217,  0.00720652],\n",
              "       ...,\n",
              "       [ 0.02354575, -0.04464164,  0.0703187 , ..., -0.00259226,\n",
              "        -0.01919705, -0.00936191],\n",
              "       [ 0.01628068,  0.05068012,  0.07247433, ..., -0.00259226,\n",
              "        -0.02364456,  0.06105391],\n",
              "       [-0.00914709,  0.05068012, -0.03099563, ..., -0.00259226,\n",
              "         0.00620932,  0.02791705]])"
            ]
          },
          "metadata": {
            "tags": []
          },
          "execution_count": 9
        }
      ]
    },
    {
      "cell_type": "code",
      "metadata": {
        "id": "OQRdbpl1nAf5"
      },
      "source": [
        "from sklearn.linear_model import LinearRegression\n",
        "lr = LinearRegression()\n",
        "lr.fit(x_train, y_train)\n",
        "predictions = lr.predict(test)"
      ],
      "execution_count": null,
      "outputs": []
    },
    {
      "cell_type": "code",
      "metadata": {
        "id": "VZLJRh8ppNZq"
      },
      "source": [
        "np.savetxt('predictions.csv', predictions, fmt='%1.5f')"
      ],
      "execution_count": null,
      "outputs": []
    }
  ]
}